{
  "nbformat": 4,
  "nbformat_minor": 0,
  "metadata": {
    "colab": {
      "name": "Lambda Treasure Hunt - CS BW2.ipynb",
      "provenance": [],
      "toc_visible": true,
      "authorship_tag": "ABX9TyMIrf6S8PF/+zWp9inP0I0w"
    },
    "kernelspec": {
      "name": "python3",
      "display_name": "Python 3"
    },
    "accelerator": "GPU"
  },
  "cells": [
    {
      "cell_type": "markdown",
      "metadata": {
        "id": "51x3pknLW6rV",
        "colab_type": "text"
      },
      "source": [
        "# Lambda Treasure Hunt - CS BW2\n",
        "\n",
        "https://github.com/gyhou/CS-Build-Week-2\n",
        "---\n",
        "**Overview**\n",
        "\n",
        "You start the adventure unworthy, unequipped and anonymous. Your first task is to traverse the island and build a map for your personal use. Along the way, you will discover equipment, treasure and clues which will assist you on your quest for power, wealth and glory.\n",
        "\n",
        "To efficiently traverse an island maze, collect treasure, solve puzzles, unearth powerful artifacts and more.\n",
        "\n",
        "Glory and riches await the victors!"
      ]
    },
    {
      "cell_type": "markdown",
      "metadata": {
        "id": "dfwzgh5Omlf8",
        "colab_type": "text"
      },
      "source": [
        "# Build a map"
      ]
    },
    {
      "cell_type": "markdown",
      "metadata": {
        "id": "0JAXX3qogl4s",
        "colab_type": "text"
      },
      "source": [
        "## Empty Map"
      ]
    },
    {
      "cell_type": "code",
      "metadata": {
        "id": "wqL6qIpBgd_E",
        "colab_type": "code",
        "colab": {}
      },
      "source": [
        "# graph = {}"
      ],
      "execution_count": 0,
      "outputs": []
    },
    {
      "cell_type": "markdown",
      "metadata": {
        "id": "ecf_0aZ8Zftl",
        "colab_type": "text"
      },
      "source": [
        "## Complete Road Map\n",
        "\n",
        "- 500 rooms\n",
        "- Shop: 1 (Sell treasures for gold)\n",
        "- Pirate Rye: 467 (Exchange 1000g to change name)\n",
        "\n",
        "### After changing name\n",
        "- Wishing Well: 55 (Get clue for mining location)\n",
        "- Shrines: 22, 374, 461, 491 (Unlock abilities)"
      ]
    },
    {
      "cell_type": "code",
      "metadata": {
        "id": "kfx1XmE-3cSU",
        "colab_type": "code",
        "colab": {}
      },
      "source": [
        "# Upload graph file\n",
        "from treasure_map import graph_map\n",
        "graph = graph_map"
      ],
      "execution_count": 0,
      "outputs": []
    },
    {
      "cell_type": "markdown",
      "metadata": {
        "id": "SSQJwuRQXruM",
        "colab_type": "text"
      },
      "source": [
        "# Initialization"
      ]
    },
    {
      "cell_type": "code",
      "metadata": {
        "id": "9gS52Fh3ZZ-J",
        "colab_type": "code",
        "colab": {}
      },
      "source": [
        "import json\n",
        "import time\n",
        "import random\n",
        "import requests\n",
        "# Upload token\n",
        "with open('george_token', 'r') as auth_token:\n",
        "  token = auth_token.read()"
      ],
      "execution_count": 0,
      "outputs": []
    },
    {
      "cell_type": "code",
      "metadata": {
        "id": "rG-s8wEPVcut",
        "colab_type": "code",
        "outputId": "329dbc4e-74cb-453e-874f-254c3dd85aaa",
        "colab": {
          "base_uri": "https://localhost:8080/",
          "height": 336
        }
      },
      "source": [
        "def init(token):\n",
        "  url = 'https://lambda-treasure-hunt.herokuapp.com/api/adv/init/'\n",
        "  result = requests.get(url, \n",
        "                         headers={'Authorization': f'Token {token}'}).json()\n",
        "  if len(result['errors']) > 0:\n",
        "    print(result['errors'])                       \n",
        "  if result['room_id'] not in graph:\n",
        "    new_room = {}\n",
        "    for direction in result['exits']:\n",
        "        new_room[direction] = \"?\"\n",
        "    graph[result['room_id']] = [new_room, result]\n",
        "  return result\n",
        "current = init(token)\n",
        "current"
      ],
      "execution_count": 3,
      "outputs": [
        {
          "output_type": "execute_result",
          "data": {
            "text/plain": [
              "{'cooldown': 1.0,\n",
              " 'coordinates': '(58,61)',\n",
              " 'description': \"You are standing besides a large well. A sign next the well reads 'EXAMINE WELL, FIND WEALTH'.\",\n",
              " 'elevation': 0,\n",
              " 'errors': [],\n",
              " 'exits': ['n'],\n",
              " 'items': [],\n",
              " 'messages': [],\n",
              " 'players': ['Labyrinth65',\n",
              "  'Aaron The Beast',\n",
              "  'Michael Mangus',\n",
              "  'Kevin Smith',\n",
              "  'Chance',\n",
              "  'DORA_BELME',\n",
              "  'Hartman',\n",
              "  'Ad-R0ck'],\n",
              " 'room_id': 555,\n",
              " 'terrain': 'NORMAL',\n",
              " 'title': 'Wishing Well'}"
            ]
          },
          "metadata": {
            "tags": []
          },
          "execution_count": 3
        }
      ]
    },
    {
      "cell_type": "markdown",
      "metadata": {
        "id": "BryuOPDpY9el",
        "colab_type": "text"
      },
      "source": [
        "# Status, Inventory"
      ]
    },
    {
      "cell_type": "code",
      "metadata": {
        "id": "GYAuWzlQgEFv",
        "colab_type": "code",
        "outputId": "52d667ae-d934-49df-8a27-93de93c9e3fb",
        "colab": {
          "base_uri": "https://localhost:8080/",
          "height": 269
        }
      },
      "source": [
        "def status_check():\n",
        "  url = 'https://lambda-treasure-hunt.herokuapp.com/api/adv/status/'\n",
        "  result = requests.post(url, \n",
        "                         headers={'Content-Type':'application/json',\n",
        "                                  'Authorization': f'Token {token}'}).json()\n",
        "  if len(result['errors']) > 0:\n",
        "    print(result['errors'])   \n",
        "  return result\n",
        "status_check()"
      ],
      "execution_count": 4,
      "outputs": [
        {
          "output_type": "execute_result",
          "data": {
            "text/plain": [
              "{'abilities': ['pray', 'mine', 'fly', 'dash', 'warp', 'recall'],\n",
              " 'bodywear': 'well-crafted jacket',\n",
              " 'cooldown': 1.0,\n",
              " 'encumbrance': 4,\n",
              " 'errors': [],\n",
              " 'footwear': 'well-crafted boots',\n",
              " 'gold': 12400,\n",
              " 'has_mined': True,\n",
              " 'inventory': ['poor jacket', 'nice jacket'],\n",
              " 'messages': [],\n",
              " 'name': '[George H]',\n",
              " 'snitches': 70,\n",
              " 'speed': 104,\n",
              " 'status': [],\n",
              " 'strength': 20}"
            ]
          },
          "metadata": {
            "tags": []
          },
          "execution_count": 4
        }
      ]
    },
    {
      "cell_type": "markdown",
      "metadata": {
        "id": "6iGIgC6jEtjN",
        "colab_type": "text"
      },
      "source": [
        "## Equipment\n",
        "\n",
        "- Bodywear: Increase strength\n",
        "- Footwear: Increase speed"
      ]
    },
    {
      "cell_type": "code",
      "metadata": {
        "id": "cfZyJIcGEvLz",
        "colab_type": "code",
        "outputId": "99c5ce39-b3e5-4546-f61c-ac4acb71d627",
        "colab": {
          "base_uri": "https://localhost:8080/",
          "height": 306
        }
      },
      "source": [
        "def equip_item(item_name):\n",
        "  url = 'https://lambda-treasure-hunt.herokuapp.com/api/adv/wear/'\n",
        "  data = f'{{\"name\":\"{item_name}\"}}'\n",
        "  result = requests.post(url, data=data,\n",
        "                         headers={'Content-Type':'application/json',\n",
        "                                  'Authorization': f'Token {token}'}).json()\n",
        "  if len(result['errors']) > 0:\n",
        "    print(result['errors'])                  \n",
        "  print(result)\n",
        "  return result     \n",
        "# equip_item('well-crafted jacket') # 21\n",
        "equip_item('well-crafted boots') # speed 104"
      ],
      "execution_count": 0,
      "outputs": [
        {
          "output_type": "stream",
          "text": [
            "{'name': '[George H]', 'cooldown': 1.0, 'encumbrance': 6, 'strength': 20, 'speed': 104, 'gold': 12400, 'bodywear': 'well-crafted jacket', 'footwear': 'well-crafted boots', 'inventory': ['well-crafted boots', 'amazing treasure'], 'abilities': ['pray', 'mine', 'fly', 'dash', 'warp', 'recall'], 'status': [], 'has_mined': True, 'errors': [], 'messages': ['You wear well-crafted boots'], 'snitches': 59}\n"
          ],
          "name": "stdout"
        },
        {
          "output_type": "execute_result",
          "data": {
            "text/plain": [
              "{'abilities': ['pray', 'mine', 'fly', 'dash', 'warp', 'recall'],\n",
              " 'bodywear': 'well-crafted jacket',\n",
              " 'cooldown': 1.0,\n",
              " 'encumbrance': 6,\n",
              " 'errors': [],\n",
              " 'footwear': 'well-crafted boots',\n",
              " 'gold': 12400,\n",
              " 'has_mined': True,\n",
              " 'inventory': ['well-crafted boots', 'amazing treasure'],\n",
              " 'messages': ['You wear well-crafted boots'],\n",
              " 'name': '[George H]',\n",
              " 'snitches': 59,\n",
              " 'speed': 104,\n",
              " 'status': [],\n",
              " 'strength': 20}"
            ]
          },
          "metadata": {
            "tags": []
          },
          "execution_count": 147
        }
      ]
    },
    {
      "cell_type": "markdown",
      "metadata": {
        "id": "vXkB_G5zaDCo",
        "colab_type": "text"
      },
      "source": [
        "# Actions\n",
        "\n",
        "- Movement (move, fly, dash, recall, warp)\n",
        "- Treasure (take/sell)\n",
        "- Pray (gain abilitie)\n",
        "- Mine (Coin)"
      ]
    },
    {
      "cell_type": "markdown",
      "metadata": {
        "id": "hR5WNOYPbyFH",
        "colab_type": "text"
      },
      "source": [
        "## Movement\n",
        "\n",
        "- Move, Fly, Dash, Recall, Warp"
      ]
    },
    {
      "cell_type": "markdown",
      "metadata": {
        "id": "ccEKztQOoPV2",
        "colab_type": "text"
      },
      "source": [
        "### Breathe First Search\n",
        "\n",
        "- Finds the shortest path to the destination"
      ]
    },
    {
      "cell_type": "markdown",
      "metadata": {
        "id": "sOlyOt2FqMty",
        "colab_type": "text"
      },
      "source": [
        "#### Qeue Class"
      ]
    },
    {
      "cell_type": "code",
      "metadata": {
        "id": "UE09br-5qI71",
        "colab_type": "code",
        "colab": {}
      },
      "source": [
        "# Helper class\n",
        "class Queue():\n",
        "  def __init__(self):\n",
        "      self.queue = []\n",
        "  def enqueue(self, value):\n",
        "      self.queue.append(value)\n",
        "  def dequeue(self):\n",
        "      if self.size() > 0:\n",
        "          return self.queue.pop(0)\n",
        "      else:\n",
        "          return None\n",
        "  def size(self):\n",
        "      return len(self.queue)"
      ],
      "execution_count": 0,
      "outputs": []
    },
    {
      "cell_type": "markdown",
      "metadata": {
        "id": "suF2qj4BamSb",
        "colab_type": "text"
      },
      "source": [
        "#### BFS"
      ]
    },
    {
      "cell_type": "code",
      "metadata": {
        "id": "AFypogmqqbsX",
        "colab_type": "code",
        "colab": {}
      },
      "source": [
        "def bfs(starting_room, destination):\n",
        "  queue = Queue()\n",
        "  queue.enqueue([starting_room])\n",
        "  visited = set()\n",
        "  while queue.size() > 0:\n",
        "    path = queue.dequeue()\n",
        "    room_id = path[-1]\n",
        "    if room_id not in visited:\n",
        "      if room_id == destination:\n",
        "        return path\n",
        "      else:\n",
        "        for direction in graph[room_id][0]:\n",
        "          # if graph[room_id][0][direction] != \"?\":\n",
        "            new_path = path.copy()\n",
        "            new_path.append(graph[room_id][0][direction])\n",
        "            queue.enqueue(new_path)\n",
        "      visited.add(room_id)\n",
        "  return []"
      ],
      "execution_count": 0,
      "outputs": []
    },
    {
      "cell_type": "code",
      "metadata": {
        "id": "AwjWZeOC-pbA",
        "colab_type": "code",
        "outputId": "41d5fcf9-a59d-4b7b-fe92-956673803714",
        "colab": {
          "base_uri": "https://localhost:8080/",
          "height": 34
        }
      },
      "source": [
        "# Test\n",
        "bfs(current['room_id'], 555), bfs(500, 555)"
      ],
      "execution_count": 0,
      "outputs": [
        {
          "output_type": "execute_result",
          "data": {
            "text/plain": [
              "([], [500, 504, 506, 507, 511, 516, 528, 555])"
            ]
          },
          "metadata": {
            "tags": []
          },
          "execution_count": 66
        }
      ]
    },
    {
      "cell_type": "markdown",
      "metadata": {
        "id": "YD31fnu0na6N",
        "colab_type": "text"
      },
      "source": [
        "### Move/Fly\n",
        "\n",
        "- One room traversal\n",
        "- Base 15s CD"
      ]
    },
    {
      "cell_type": "markdown",
      "metadata": {
        "id": "QfhjU2qLkPwt",
        "colab_type": "text"
      },
      "source": [
        "#### Basic movement\n",
        "\n",
        "Move - no buff or penalty\n",
        "\n",
        "**Wise Explorer Buff**\n",
        "\n",
        "- Predict the destination room id to reduce CD by 50%\n",
        "\n",
        "\n",
        "---\n",
        "\n",
        "\n",
        "After obtaining **Fly** ability\n",
        "\n",
        "Buffs\n",
        "- Instant CD when going downhill\n",
        "- -10% CD in normal rooms\n",
        "\n",
        "Penalty\n",
        "- +10s CD in CAVE terrains"
      ]
    },
    {
      "cell_type": "code",
      "metadata": {
        "id": "MDp-gtZQh_w7",
        "colab_type": "code",
        "colab": {}
      },
      "source": [
        "# Movement\n",
        "def movement(current_room_id, direction, next_room_id=None):\n",
        "  if graph[current_room_id][1]['terrain'] == 'CAVE':\n",
        "    url = 'https://lambda-treasure-hunt.herokuapp.com/api/adv/move/'\n",
        "  else:\n",
        "    # Once you acquire flying ability\n",
        "    url = 'https://lambda-treasure-hunt.herokuapp.com/api/adv/fly/'\n",
        "  if next_room_id is not None and next_room_id != \"?\":\n",
        "    data = f'{{\"direction\":\"{direction}\",\"next_room_id\": \"{next_room_id}\"}}'\n",
        "    if graph[next_room_id][1]['terrain'] == 'CAVE':\n",
        "      url = 'https://lambda-treasure-hunt.herokuapp.com/api/adv/move/'\n",
        "  else:\n",
        "    data = f'{{\"direction\":\"{direction}\"}}'\n",
        "  \n",
        "  result = requests.post(url, data=data,\n",
        "                         headers={'Content-Type':'application/json',\n",
        "                                  'Authorization': f'Token {token}'}).json()\n",
        "  if len(result['errors']) > 0:\n",
        "    print(result['errors'])\n",
        "    return\n",
        "  # Update room_id in graph\n",
        "  inverse_directions = {\"n\": \"s\", \"s\": \"n\", \"e\": \"w\", \"w\": \"e\"}\n",
        "  if result['room_id'] not in graph:\n",
        "    graph[result['room_id']] = {}\n",
        "    for road in result['exits']:\n",
        "      graph[result['room_id']][road] = \"?\"\n",
        "    new_room = {}\n",
        "    for road in result['exits']:\n",
        "      new_room[road] = \"?\"\n",
        "    graph[result['room_id']] = [new_room, result]\n",
        "  graph[current_room_id][0][direction] = result['room_id']\n",
        "  graph[result['room_id']][0][inverse_directions[direction]] = current_room_id\n",
        "\n",
        "  return result"
      ],
      "execution_count": 0,
      "outputs": []
    },
    {
      "cell_type": "code",
      "metadata": {
        "id": "MFzuyfZFSZtW",
        "colab_type": "code",
        "colab": {}
      },
      "source": [
        "current = init(token)\n",
        "time.sleep(current['cooldown'])\n",
        "# Run forever until interrupted\n",
        "prev_move = None\n",
        "inverse_directions = {\"n\": \"s\", \"s\": \"n\", \"e\": \"w\", \"w\": \"e\"}\n",
        "while True:\n",
        "  directions = current['exits']\n",
        "  if len(directions) > 1 and prev_move:\n",
        "    directions.remove(inverse_directions[prev_move])\n",
        "  direction = random.choice(directions)\n",
        "  print(current['room_id'], direction, graph[current['room_id']][0])\n",
        "  next_room = movement(current['room_id'], direction, graph[current['room_id']][0][direction])\n",
        "  print(current['room_id'], next_room['room_id'], next_room['messages'])\n",
        "  time.sleep(next_room['cooldown'])\n",
        "\n",
        "  quality = ['sparkling','brilliant','dazzling','spectacular','amazing','golden','well-crafted','exquisite']\n",
        "  if len(next_room['items']) > 0:\n",
        "    print(f'{next_room[\"items\"]} found in Room[{next_room[\"room_id\"]}]')\n",
        "    for item in next_room['items']:          \n",
        "      item_grade = item.split(' ')[0]\n",
        "      if item_grade in quality:\n",
        "        time.sleep(next_room['cooldown'])\n",
        "        next_room = take_item(item)\n",
        "  prev_move = direction\n",
        "  current = next_room\n",
        "  time.sleep(next_room['cooldown'])"
      ],
      "execution_count": 0,
      "outputs": []
    },
    {
      "cell_type": "code",
      "metadata": {
        "id": "UVIs1FGVbdv9",
        "colab_type": "code",
        "outputId": "9c29032e-1241-49ff-bae5-7ae303e714bc",
        "colab": {
          "base_uri": "https://localhost:8080/",
          "height": 34
        }
      },
      "source": [
        "# 815 778\n",
        "bfs(current['room_id'], 779)"
      ],
      "execution_count": 0,
      "outputs": [
        {
          "output_type": "execute_result",
          "data": {
            "text/plain": [
              "[648, 610, 779]"
            ]
          },
          "metadata": {
            "tags": []
          },
          "execution_count": 122
        }
      ]
    },
    {
      "cell_type": "markdown",
      "metadata": {
        "id": "q_EFNw-0oRY9",
        "colab_type": "text"
      },
      "source": [
        "### Dash\n",
        "\n",
        "After obtaining **Dash** ability\n",
        "- Cover many rooms in one direction quickly\n",
        "- 15s CD + 0.5s CD for each room dashed"
      ]
    },
    {
      "cell_type": "code",
      "metadata": {
        "id": "ChTskkAtdFyG",
        "colab_type": "code",
        "colab": {}
      },
      "source": [
        "def dash(direction, num_rooms, next_room_ids):\n",
        "  url = 'https://lambda-treasure-hunt.herokuapp.com/api/adv/dash/'\n",
        "  next_room_ids = [str(room_id) for room_id in next_room_ids]\n",
        "  next_room_ids = ','.join(next_room_ids)\n",
        "  data = f'{{\"direction\":\"{direction}\",\"num_rooms\":\"{num_rooms}\",\"next_room_ids\":\"{next_room_ids}\"}}'\n",
        "  result = requests.post(url, data=data,\n",
        "                         headers={'Content-Type':'application/json',\n",
        "                                  'Authorization': f'Token {token}'}).json()\n",
        "  if len(result['errors']) > 0:\n",
        "    print(result['errors'])                  \n",
        "  # print(result)\n",
        "  return result                                 "
      ],
      "execution_count": 0,
      "outputs": []
    },
    {
      "cell_type": "markdown",
      "metadata": {
        "id": "ZoFqESeu26Yx",
        "colab_type": "text"
      },
      "source": [
        "### Recall\n",
        "\n",
        "**Room 492**\n",
        "- Recall to your starting location Room_id : 0\n",
        "- Base 15s CD"
      ]
    },
    {
      "cell_type": "code",
      "metadata": {
        "id": "Cj6Xvisq28fc",
        "colab_type": "code",
        "colab": {}
      },
      "source": [
        "def recall():\n",
        "  url = 'https://lambda-treasure-hunt.herokuapp.com/api/adv/recall/'\n",
        "  result = requests.post(url, headers={'Content-Type':'application/json',\n",
        "                                       'Authorization': f'Token {token}'})\n",
        "  return result.json()\n",
        "# current = recall()"
      ],
      "execution_count": 0,
      "outputs": []
    },
    {
      "cell_type": "markdown",
      "metadata": {
        "id": "4paAJ4ydyOg1",
        "colab_type": "text"
      },
      "source": [
        "### Warp\n",
        "\n",
        "**Room 374**\n",
        "\n",
        "- Warp to an alternate dimension where you can compete with other players to search for the mysterious golden snitch.\n",
        "- Note that warp travel is dangerous so you must be have both bodywear and footwear equipped to warp."
      ]
    },
    {
      "cell_type": "code",
      "metadata": {
        "id": "fG2mURwlyQ8L",
        "colab_type": "code",
        "colab": {}
      },
      "source": [
        "def warp():\n",
        "  url = 'https://lambda-treasure-hunt.herokuapp.com/api/adv/warp/'\n",
        "  result = requests.post(url, \n",
        "                         headers={'Content-Type':'application/json',\n",
        "                                  'Authorization': f'Token {token}'}).json()\n",
        "  # print(result)\n",
        "  time.sleep(result['cooldown'])\n",
        "  return result\n",
        "# current = warp()\n",
        "# current"
      ],
      "execution_count": 0,
      "outputs": []
    },
    {
      "cell_type": "markdown",
      "metadata": {
        "id": "YHvO4B6nnOiO",
        "colab_type": "text"
      },
      "source": [
        "## Take Treasure\n",
        "\n",
        "- Pick up treasures to sell at shop to gain gold\n",
        "- Player can hold up to player's [strength stats] items\n",
        "- When a player's inventory is full +100% CD\n",
        "- Tiny, Small, Shiny, Great, Amazing, Spectacular, Dazzling, Brilliant, Sparkling\n",
        "- Use for transmogrify"
      ]
    },
    {
      "cell_type": "code",
      "metadata": {
        "id": "gBmM0dftbfZc",
        "colab_type": "code",
        "colab": {}
      },
      "source": [
        "# Take treasure\n",
        "def take_item(treasure):\n",
        "  url = 'https://lambda-treasure-hunt.herokuapp.com/api/adv/take/'\n",
        "  data = f'{{\"name\":\"{treasure}\"}}'\n",
        "  result = requests.post(url, data=data,\n",
        "                         headers={'Content-Type':'application/json',\n",
        "                                  'Authorization': f'Token {token}'}).json()\n",
        "  if len(result['errors']) > 0:\n",
        "    print(result['errors'])\n",
        "  else:\n",
        "    print(f'Taking {treasure}!')\n",
        "  return result\n",
        "# take_item('golden snitch')\n",
        "# take_item('nice jacket')"
      ],
      "execution_count": 0,
      "outputs": []
    },
    {
      "cell_type": "code",
      "metadata": {
        "id": "bo2LG4trvNWM",
        "colab_type": "code",
        "colab": {}
      },
      "source": [
        "# Sell Treasure\n",
        "def sell_item(treasure):\n",
        "  url = 'https://lambda-treasure-hunt.herokuapp.com/api/adv/sell/'\n",
        "  data = f'{{\"name\":\"{treasure}\", \"confirm\":\"yes\"}}'\n",
        "  result = requests.post(url, data=data,\n",
        "                         headers={'Content-Type':'application/json',\n",
        "                                  'Authorization': f'Token {token}'}).json()\n",
        "  if len(result['errors']) > 0:\n",
        "    print(result['errors'])\n",
        "  print(f'{result[\"messages\"]}')\n",
        "  return result"
      ],
      "execution_count": 0,
      "outputs": []
    },
    {
      "cell_type": "markdown",
      "metadata": {
        "id": "oLLtRWjOqc-O",
        "colab_type": "text"
      },
      "source": [
        "## Selling items"
      ]
    },
    {
      "cell_type": "code",
      "metadata": {
        "id": "97WHekOrpnKn",
        "colab_type": "code",
        "outputId": "d31b1624-6275-4829-bad9-817f9a532543",
        "colab": {
          "base_uri": "https://localhost:8080/",
          "height": 235
        }
      },
      "source": [
        "current = init(token)\n",
        "time.sleep(current['cooldown'])\n",
        "current = map_traversal(current, 1, True)\n",
        "# time.sleep(current['cooldown'])\n",
        "items = status_check()['inventory']\n",
        "time.sleep(1)\n",
        "low_quality = ['small','poor','terrible','nice','shiny']\n",
        "for item in items:\n",
        "  item_quality = item.split(' ')[0]\n",
        "  if item_quality in low_quality:\n",
        "    current = sell_item(item)\n",
        "    time.sleep(current['cooldown'])"
      ],
      "execution_count": 0,
      "outputs": [
        {
          "output_type": "stream",
          "text": [
            "Recall path (2) < base path (22)\n",
            "RECALLING to Room[0]! CD: 6.0s\n",
            "Heading to the Room[1].. [0, 1]\n",
            "Room[0] to Room[1]\n",
            "CD: 2.70, ['You have flown west.', 'Flight Bonus: -10% CD', 'Wise Explorer: -50% CD']\n",
            "[\"Thanks, I'll take that poor jacket.\", 'You have received 200 gold.']\n",
            "[\"Thanks, I'll take that nice jacket.\", 'You have received 500 gold.']\n",
            "[\"Thanks, I'll take that poor boots.\", 'You have received 200 gold.']\n",
            "[\"Thanks, I'll take that terrible jacket.\", 'You have received 100 gold.']\n",
            "[\"Thanks, I'll take that poor boots.\", 'You have received 200 gold.']\n",
            "[\"Thanks, I'll take that poor boots.\", 'You have received 200 gold.']\n",
            "[\"Thanks, I'll take that terrible jacket.\", 'You have received 100 gold.']\n",
            "[\"Thanks, I'll take that poor boots.\", 'You have received 200 gold.']\n"
          ],
          "name": "stdout"
        }
      ]
    },
    {
      "cell_type": "markdown",
      "metadata": {
        "id": "D5pmh70mrkGS",
        "colab_type": "text"
      },
      "source": [
        "## Name Change\n",
        "\n",
        "Pirate Rye (467) - Use 1000g to change name to unlock abilities and pray"
      ]
    },
    {
      "cell_type": "code",
      "metadata": {
        "id": "3ZCyiACdrlwC",
        "colab_type": "code",
        "colab": {}
      },
      "source": [
        "def name_change(new_name):\n",
        "  url = 'https://lambda-treasure-hunt.herokuapp.com/api/adv/change_name/'\n",
        "  data = f'{{\"name\":\"{new_name}\", \"confirm\":\"aye\"}}'\n",
        "  result = requests.post(url, data=data,\n",
        "                         headers={'Content-Type':'application/json',\n",
        "                                  'Authorization': f'Token {token}'}).json()\n",
        "  print(f'Changing name to {new_name}!')\n",
        "  return result\n",
        "# name_change('Jon Doe')"
      ],
      "execution_count": 0,
      "outputs": []
    },
    {
      "cell_type": "markdown",
      "metadata": {
        "id": "h2QPIbD4nMTW",
        "colab_type": "text"
      },
      "source": [
        "## Pray at Shrine\n",
        "\n",
        "Need to change name first to pray and unlock abilities\n",
        "- 22 - Fly: Good for all terrains except cave.\n",
        "- 374 - Warp: Must be have both bodywear and footwear equipped to warp.\n",
        "- 461 - Dash: Cover many rooms in one direction quickly\n",
        "- 492 - Recall: Recall to starting Room[0]\n",
        "\n"
      ]
    },
    {
      "cell_type": "code",
      "metadata": {
        "id": "laTfe12bjY_F",
        "colab_type": "code",
        "colab": {}
      },
      "source": [
        "def pray():\n",
        "  url = 'https://lambda-treasure-hunt.herokuapp.com/api/adv/pray/'\n",
        "  result = requests.post(url, headers={'Content-Type':'application/json',\n",
        "                                       'Authorization': f'Token {token}'})\n",
        "  print(result)\n",
        "  return result.json()\n",
        "# current = pray()\n",
        "# time.sleep(current['cooldown'])"
      ],
      "execution_count": 0,
      "outputs": []
    },
    {
      "cell_type": "markdown",
      "metadata": {
        "id": "RnPxZQCfATMt",
        "colab_type": "text"
      },
      "source": [
        "## Transmogrify\n",
        "\n",
        "Room 495\n",
        "\n",
        "- Trade One item and one Lambdacoin for an bodywear or footwear item\n",
        "\n",
        "**Different grades of items**\n",
        "- Appalling, Terrible, Poor, Nice, Well-crafted, Exquisite"
      ]
    },
    {
      "cell_type": "code",
      "metadata": {
        "id": "pC4Knh6eAVKA",
        "colab_type": "code",
        "colab": {}
      },
      "source": [
        "def transmogrify(item_name):\n",
        "  url = 'https://lambda-treasure-hunt.herokuapp.com/api/adv/transmogrify/'\n",
        "  data = f'{{\"name\":\"{item_name}\"}}'\n",
        "  result = requests.post(url, data=data,\n",
        "                         headers={'Content-Type':'application/json',\n",
        "                                  'Authorization': f'Token {token}'}).json()\n",
        "  if len(result['errors']) > 0:\n",
        "    print(result['errors'])\n",
        "  print(result['messages'])                                \n",
        "  return result\n",
        "# transmogrify('shiny treasure')\n",
        "# transmogrify('nice boots')"
      ],
      "execution_count": 0,
      "outputs": []
    },
    {
      "cell_type": "code",
      "metadata": {
        "id": "_FuTl2mq0UnM",
        "colab_type": "code",
        "outputId": "332305bf-d38f-4f44-99ab-460b485d7121",
        "colab": {
          "base_uri": "https://localhost:8080/",
          "height": 34
        }
      },
      "source": [
        "# time.sleep(current['cooldown'])\n",
        "items = status_check()['inventory']\n",
        "time.sleep(1)\n",
        "quality = ['nice','well-crafted','shiny','great']\n",
        "for item in items:\n",
        "  # item_quality = item.split(' ')[0]\n",
        "  # if item_quality in quality:\n",
        "    current = transmogrify(item)\n",
        "    time.sleep(current['cooldown'])"
      ],
      "execution_count": 0,
      "outputs": [
        {
          "output_type": "stream",
          "text": [
            "['Your poor jacket transmogrified into poor jacket!']\n"
          ],
          "name": "stdout"
        }
      ]
    },
    {
      "cell_type": "markdown",
      "metadata": {
        "id": "PrnO4IDZ77Pt",
        "colab_type": "text"
      },
      "source": [
        "# BFS Map Traversal"
      ]
    },
    {
      "cell_type": "code",
      "metadata": {
        "id": "EwQPAmVX76vB",
        "colab_type": "code",
        "colab": {}
      },
      "source": [
        "def map_traversal(current_room, destination, pick_item=False, alt_dim=False):\n",
        "  if destination > 499:\n",
        "    alt_dim = True\n",
        "  # Recall or walk?\n",
        "  recall_path = bfs(0, destination)\n",
        "  base_path = bfs(current_room['room_id'], destination)\n",
        "  warp_recall_path = bfs(500, destination)\n",
        "\n",
        "  if alt_dim:\n",
        "    if len(warp_recall_path) + 7 < len(base_path):\n",
        "      print(f'Recall path ({len(warp_recall_path)}) < base path ({len(base_path)})')\n",
        "      current_room = recall()\n",
        "      print(f'RECALLING to Room[0]! CD: {current_room[\"cooldown\"]}')\n",
        "      time.sleep(current_room['cooldown'])\n",
        "      current_room = warp()\n",
        "      print(f'Warping to Room[500]! CD: {current_room[\"cooldown\"]}')\n",
        "      time.sleep(current_room['cooldown'])\n",
        "      base_path = warp_recall_path\n",
        "  elif len(recall_path) + 3 < len(base_path):\n",
        "    print(f'Recall path ({len(recall_path)}) < base path ({len(base_path)})')\n",
        "    current_room = recall()\n",
        "    print(f'RECALLING to Room[0]! CD: {current_room[\"cooldown\"]}s')\n",
        "    base_path = recall_path\n",
        "    time.sleep(current_room['cooldown'])\n",
        "  # Base path = list of room_ids to traverse to destination\n",
        "  print(f'Heading to the Room[{destination}].. {base_path}')\n",
        "  while len(base_path) > 1:\n",
        "    path_exits = graph[current_room['room_id']][0]\n",
        "    for direction, room_id in path_exits.items():\n",
        "      if room_id == base_path[1]:\n",
        "        # Figure out the direction of next room\n",
        "        next_move = direction\n",
        "        break\n",
        "    # How many rooms available to Dash?\n",
        "    next_room_ids = [base_path[1]]\n",
        "    if len(base_path) > 2:\n",
        "      for index in range(1,len(base_path)-1):\n",
        "        # If direction the same, add to list\n",
        "        if next_move in graph[base_path[index]][0]:\n",
        "          if graph[base_path[index]][0][next_move] == base_path[index+1]:\n",
        "            next_room_ids.append(base_path[index+1])\n",
        "          # If not, stop the loop\n",
        "          else:\n",
        "            break\n",
        "        else:\n",
        "          break\n",
        "    if '?' in next_room_ids:\n",
        "      next_room_ids.remove('?')\n",
        "    # Check length of eligible rooms to Dash\n",
        "    if len(next_room_ids) > 2:\n",
        "      print(f'Dash - Room[{current_room[\"room_id\"]}] {next_move} to {next_room_ids}')\n",
        "      end_room = dash(next_move, len(next_room_ids), next_room_ids)\n",
        "      base_path = base_path[len(next_room_ids):]\n",
        "    # If not, move normally\n",
        "    else:\n",
        "      # print(current_room['room_id'], next_move, path_exits[next_move])\n",
        "      end_room = movement(current_room['room_id'], next_move, path_exits[next_move])\n",
        "      print(f'Room[{current_room[\"room_id\"]}] to Room[{end_room[\"room_id\"]}]')\n",
        "      # print(end_room)\n",
        "      base_path.pop(0)\n",
        "    print(f\"CD: {end_room['cooldown']:.2f}, {end_room['messages']}\")\n",
        "    \n",
        "    \n",
        "    quality = ['sparkling','brilliant','dazzling','spectacular','amazing','golden','well-crafted','exquisite']\n",
        "    if pick_item:\n",
        "      if len(end_room['items']) > 0:\n",
        "        print(f'{end_room[\"items\"]} found in Room[{end_room[\"room_id\"]}]')\n",
        "        for item in end_room['items']:          \n",
        "          item_grade = item.split(' ')[0]\n",
        "          if item_grade in quality:\n",
        "            time.sleep(end_room['cooldown'])\n",
        "            end_room = take_item(item)\n",
        "            if item == 'golden snitch':\n",
        "              return end_room\n",
        "\n",
        "    current_room = end_room\n",
        "    time.sleep(current_room['cooldown'])\n",
        "  return current_room"
      ],
      "execution_count": 0,
      "outputs": []
    },
    {
      "cell_type": "markdown",
      "metadata": {
        "id": "jGbjA_OULLRP",
        "colab_type": "text"
      },
      "source": [
        "## BFS Destination"
      ]
    },
    {
      "cell_type": "code",
      "metadata": {
        "id": "iftUeTYlAjtV",
        "colab_type": "code",
        "outputId": "0247ce84-ce90-4528-951b-6999ade7e859",
        "colab": {
          "base_uri": "https://localhost:8080/",
          "height": 67
        }
      },
      "source": [
        "# import random\n",
        "current = init(token)\n",
        "time.sleep(current['cooldown'])\n",
        "shop = 1\n",
        "wishing_well_id = 55\n",
        "pirate_rye_id = 467\n",
        "transmogriphier_room = 495\n",
        "# while True:\n",
        "# room_num = random.randint(500,999)\n",
        "current = map_traversal(current, 999, True)"
      ],
      "execution_count": 23,
      "outputs": [
        {
          "output_type": "stream",
          "text": [
            "Heading to the Room[999].. [980, 999]\n",
            "Room[980] to Room[999]\n",
            "CD: 2.70, ['You have flown south.', 'Flight Bonus: -10% CD', 'Wise Explorer: -50% CD']\n"
          ],
          "name": "stdout"
        }
      ]
    },
    {
      "cell_type": "markdown",
      "metadata": {
        "id": "bup2XYo-X882",
        "colab_type": "text"
      },
      "source": [
        "# Lambda Coin"
      ]
    },
    {
      "cell_type": "markdown",
      "metadata": {
        "id": "EfH96kqdszbj",
        "colab_type": "text"
      },
      "source": [
        "## Examine Well for clue\n",
        "\n",
        "- Room 55\n",
        "- Decipher clue to get mining room location"
      ]
    },
    {
      "cell_type": "code",
      "metadata": {
        "id": "woIzlhRlsaKk",
        "colab_type": "code",
        "colab": {}
      },
      "source": [
        "def wishing_well():\n",
        "  url = 'https://lambda-treasure-hunt.herokuapp.com/api/adv/examine/'\n",
        "  data = f'{{\"name\":\"Well\"}}'\n",
        "  result = requests.post(url, data=data,\n",
        "                         headers={'Content-Type':'application/json',\n",
        "                                  'Authorization': f'Token {token}'}).json()\n",
        "  if len(result['errors']) > 0:\n",
        "    print(result['errors'])                              \n",
        "  # print(result['description'])\n",
        "  return result\n",
        "# message = wishing_well()\n",
        "# message"
      ],
      "execution_count": 0,
      "outputs": []
    },
    {
      "cell_type": "markdown",
      "metadata": {
        "id": "fpWpyGMYLwX8",
        "colab_type": "text"
      },
      "source": [
        "## Decipher Message"
      ]
    },
    {
      "cell_type": "code",
      "metadata": {
        "id": "_BC5YC3Yp-6c",
        "colab_type": "code",
        "colab": {}
      },
      "source": [
        "# import ls8 CPU\n",
        "from ls8_cpu import *\n",
        "def msg_decode(message):\n",
        "  cpu = CPU()\n",
        "  split_msg = message.split('.')[3]\n",
        "  cpu.load(split_msg)\n",
        "  decode_msg = cpu.run()\n",
        "  join_msg = \"\".join(decode_msg)\n",
        "  mining_room_id = int(''.join(i for i in join_msg if i.isdigit()))\n",
        "  print(join_msg)\n",
        "  return mining_room_id\n",
        "# msg_decode(mining_code['description'])"
      ],
      "execution_count": 0,
      "outputs": []
    },
    {
      "cell_type": "markdown",
      "metadata": {
        "id": "J9k2PkwQl-95",
        "colab_type": "text"
      },
      "source": [
        "## Blockchain Proof"
      ]
    },
    {
      "cell_type": "code",
      "metadata": {
        "id": "yyBy-fNnvD2j",
        "colab_type": "code",
        "colab": {}
      },
      "source": [
        "def get_last_proof():\n",
        "  url = 'https://lambda-treasure-hunt.herokuapp.com/api/bc/last_proof/'\n",
        "  result = requests.get(url, \n",
        "                        headers={'Content-Type':'application/json',\n",
        "                                 'Authorization': f'Token {token}'}).json()\n",
        "  return result\n",
        "# get_last_proof()"
      ],
      "execution_count": 0,
      "outputs": []
    },
    {
      "cell_type": "code",
      "metadata": {
        "id": "UJ6-8IgeQmuY",
        "colab_type": "code",
        "colab": {}
      },
      "source": [
        "def proof_of_work(last_proof, current_level):\n",
        "    \"\"\"\n",
        "    Get the last valid proof to use to mine a new block. \n",
        "    Also returns the current difficulty level, which is the number of 0's \n",
        "    required at the beginning of the hash for a new proof to be valid.\n",
        "    The proof of work algorithm for this blockchain is \n",
        "    not the same as we used in class.\n",
        "    \"\"\"\n",
        "    start = timer()\n",
        "    print(f\"\\nLast proof: {last_proof} -- Searching for next proof..\\n\")\n",
        "    proof = 99999999\n",
        "    while valid_proof(last_proof, proof, current_level) is False:\n",
        "      proof -= 1\n",
        "    print(f\"Proof found: {proof} in {timer() - start:.3f}s\")\n",
        "    return proof"
      ],
      "execution_count": 0,
      "outputs": []
    },
    {
      "cell_type": "code",
      "metadata": {
        "id": "Vjn5OBCbPaBI",
        "colab_type": "code",
        "colab": {}
      },
      "source": [
        "import hashlib\n",
        "def valid_proof(last_proof, proof, current_level):\n",
        "    \"\"\"\n",
        "    Does hash(last_proof, proof) contain N leading zeroes, \n",
        "    where N is the current difficulty level?\n",
        "    Use sha256 in hashlib\n",
        "    \"\"\"\n",
        "    guess = f\"{last_proof}{proof}\".encode()\n",
        "    guess_hash = hashlib.sha256(guess).hexdigest()\n",
        "\n",
        "    return guess_hash[:current_level] == \"0\"*current_level"
      ],
      "execution_count": 0,
      "outputs": []
    },
    {
      "cell_type": "code",
      "metadata": {
        "id": "oFzxO3mIurh1",
        "colab_type": "code",
        "colab": {}
      },
      "source": [
        "def mine_coin(new_proof):\n",
        "  url = 'https://lambda-treasure-hunt.herokuapp.com/api/bc/mine/'\n",
        "  data = f'{{\"proof\":{new_proof}}}'\n",
        "  result = requests.post(url, data=data,\n",
        "                         headers={'Content-Type':'application/json',\n",
        "                                  'Authorization': f'Token {token}'}).json()\n",
        "  return result"
      ],
      "execution_count": 0,
      "outputs": []
    },
    {
      "cell_type": "markdown",
      "metadata": {
        "id": "WZ_FSSTwuKb2",
        "colab_type": "text"
      },
      "source": [
        "## Mining Coin"
      ]
    },
    {
      "cell_type": "code",
      "metadata": {
        "id": "gUHMUXcOR9e9",
        "colab_type": "code",
        "colab": {}
      },
      "source": [
        "from timeit import default_timer as timer\n",
        "# current = init(token)\n",
        "# time.sleep(current['cooldown'])\n",
        "def mining_coin():\n",
        "  while True:\n",
        "    # Get the last proof from the server\n",
        "    current_proof = get_last_proof()\n",
        "    time.sleep(1)\n",
        "    proof = current_proof['proof']\n",
        "    current_level = current_proof['difficulty']\n",
        "\n",
        "    new_proof = proof_of_work(proof, current_level)\n",
        "    reponse = mine_coin(new_proof)\n",
        "    print(reponse)\n",
        "    time.sleep(reponse['cooldown'])\n",
        "    if len(reponse['errors']) == 0:\n",
        "      if reponse['messages'] == ['New Block Forged']:\n",
        "        break\n",
        "    else:\n",
        "      print(reponse['errors'])\n",
        "  return reponse\n",
        "# mining_coin()"
      ],
      "execution_count": 0,
      "outputs": []
    },
    {
      "cell_type": "markdown",
      "metadata": {
        "id": "0vdW4WdkvZ4j",
        "colab_type": "text"
      },
      "source": [
        "## Check Coin Balance"
      ]
    },
    {
      "cell_type": "code",
      "metadata": {
        "id": "bkW449K6vclw",
        "colab_type": "code",
        "outputId": "bbdcd9e8-7a1b-45f8-8261-7b550e008279",
        "colab": {
          "base_uri": "https://localhost:8080/",
          "height": 34
        }
      },
      "source": [
        "def coin_balance():\n",
        "  url = 'https://lambda-treasure-hunt.herokuapp.com/api/bc/get_balance/'\n",
        "  result = requests.get(url, \n",
        "                        headers={'Content-Type':'application/json',\n",
        "                                 'Authorization': f'Token {token}'}).json()\n",
        "  time.sleep(1)\n",
        "  return result\n",
        "coin_balance()['messages']"
      ],
      "execution_count": 15,
      "outputs": [
        {
          "output_type": "execute_result",
          "data": {
            "text/plain": [
              "['You have a balance of 0.0 Lambda Coins']"
            ]
          },
          "metadata": {
            "tags": []
          },
          "execution_count": 15
        }
      ]
    },
    {
      "cell_type": "markdown",
      "metadata": {
        "id": "SEQ0vz81ZYgk",
        "colab_type": "text"
      },
      "source": [
        "# Automate Mining"
      ]
    },
    {
      "cell_type": "code",
      "metadata": {
        "id": "CRG19ZvkYyuW",
        "colab_type": "code",
        "colab": {}
      },
      "source": [
        "from timeit import default_timer as timer\n",
        "current = init(token)\n",
        "time.sleep(current['cooldown'])\n",
        "# Run forever until interrupted\n",
        "while True:\n",
        "  # Head to wishing well 55\n",
        "  current_room = map_traversal(current, 55, True)\n",
        "  time.sleep(current_room['cooldown'])\n",
        "  # get message\n",
        "  mining_code = wishing_well()\n",
        "  time.sleep(mining_code['cooldown'])\n",
        "  # decode message\n",
        "  mine_room_id = msg_decode(mining_code['description'])\n",
        "  # head to decoded location\n",
        "  current_room = map_traversal(current_room, mine_room_id, True)\n",
        "  current = graph[mine_room_id][1]\n",
        "  time.sleep(current_room['cooldown'])\n",
        "  # mine\n",
        "  mining_coin()\n",
        "  print(coin_balance()['messages'])"
      ],
      "execution_count": 0,
      "outputs": []
    },
    {
      "cell_type": "markdown",
      "metadata": {
        "id": "-m5Jk5kV-siF",
        "colab_type": "text"
      },
      "source": [
        "# Find Golden Snitch"
      ]
    },
    {
      "cell_type": "code",
      "metadata": {
        "id": "wQq3Fa5d-q5Z",
        "colab_type": "code",
        "outputId": "08e628b1-49a1-45e2-a857-d33cf8831a4f",
        "colab": {
          "base_uri": "https://localhost:8080/",
          "height": 1000
        }
      },
      "source": [
        "from timeit import default_timer as timer\n",
        "current = init(token)\n",
        "time.sleep(current['cooldown'])\n",
        "wait_new_message = True\n",
        "# Run forever until interrupted\n",
        "while True:\n",
        "  # Head to large wishing well 555\n",
        "  current = map_traversal(current, 555, True, True)\n",
        "  time.sleep(current['cooldown'])\n",
        "  # get message\n",
        "  snitch_code = wishing_well()\n",
        "  time.sleep(snitch_code['cooldown'])\n",
        "  # decode current message\n",
        "  old_snitch_id = msg_decode(snitch_code['description'])\n",
        "  print(f'Current golden snitch location: {old_snitch_id}')\n",
        "  start = timer()\n",
        "  while wait_new_message:\n",
        "    new_msg = wishing_well()\n",
        "    # print(f'Waiting for new clue for golden snitch in {new_msg[\"cooldown\"]}s CD')\n",
        "    time.sleep(new_msg['cooldown'])\n",
        "    # decode new message\n",
        "    new_snitch_id = msg_decode(new_msg['description'])\n",
        "    if timer() - start > 15:\n",
        "      print(f'Waited for {timer() - start:.2f}s..')\n",
        "    if old_snitch_id != new_snitch_id or (timer() - start > 30):\n",
        "      wait_new_message = False\n",
        "    old_snitch_id = new_snitch_id\n",
        "  # head to decoded location\n",
        "  current = map_traversal(current, old_snitch_id, True, True)\n",
        "  wait_new_message = True\n",
        "  time.sleep(current['cooldown'])"
      ],
      "execution_count": 22,
      "outputs": [
        {
          "output_type": "stream",
          "text": [
            "Heading to the Room[555].. [500, 504, 506, 507, 511, 516, 528, 555]\n",
            "Dash - Room[500] n to [504, 506, 507]\n",
            "CD: 7.50, ['You have dashed to room 504.', 'You have dashed to room 506.', 'You have dashed to room 507.']\n",
            "['shiny treasure', 'shiny treasure', 'nice jacket', 'poor boots'] found in Room[507]\n",
            "Room[507] to Room[511]\n",
            "CD: 2.70, ['You have flown west.', 'Flight Bonus: -10% CD', 'Wise Explorer: -50% CD']\n",
            "Room[511] to Room[516]\n",
            "CD: 2.70, ['You have flown west.', 'Flight Bonus: -10% CD', 'Wise Explorer: -50% CD']\n",
            "Room[516] to Room[528]\n",
            "CD: 2.70, ['You have flown south.', 'Flight Bonus: -10% CD', 'Wise Explorer: -50% CD']\n",
            "['nice jacket', 'nice boots'] found in Room[528]\n",
            "Room[528] to Room[555]\n",
            "CD: 2.70, ['You have flown south.', 'Flight Bonus: -10% CD', 'Wise Explorer: -50% CD']\n",
            "Find the snitch in room 869\n",
            "Current golden snitch location: 869\n",
            "Waiting for new clue for golden snitch in 1.0s CD\n",
            "Find the snitch in room 869\n",
            "Waiting for new clue for golden snitch in 1.0s CD\n",
            "Find the snitch in room 869\n",
            "Waiting for new clue for golden snitch in 1.0s CD\n",
            "Find the snitch in room 869\n",
            "Waiting for new clue for golden snitch in 1.0s CD\n",
            "Find the snitch in room 869\n",
            "Waiting for new clue for golden snitch in 1.0s CD\n",
            "Find the snitch in room 869\n",
            "Waiting for new clue for golden snitch in 1.0s CD\n",
            "Find the snitch in room 869\n",
            "Waiting for new clue for golden snitch in 1.0s CD\n",
            "Find the snitch in room 869\n",
            "Waiting for new clue for golden snitch in 1.0s CD\n",
            "Find the snitch in room 869\n",
            "Waiting for new clue for golden snitch in 1.0s CD\n",
            "Find the snitch in room 869\n",
            "Waiting for new clue for golden snitch in 1.0s CD\n",
            "Find the snitch in room 869\n",
            "Waiting for new clue for golden snitch in 1.0s CD\n",
            "Find the snitch in room 869\n",
            "Waiting for new clue for golden snitch in 1.0s CD\n",
            "Find the snitch in room 869\n",
            "Waiting for new clue for golden snitch in 1.0s CD\n",
            "Find the snitch in room 869\n",
            "Waiting for new clue for golden snitch in 1.0s CD\n",
            "Find the snitch in room 869\n",
            "Waiting for new clue for golden snitch in 1.0s CD\n",
            "Find the snitch in room 869\n",
            "Waiting for new clue for golden snitch in 1.0s CD\n",
            "Find the snitch in room 869\n",
            "Waiting for new clue for golden snitch in 1.0s CD\n",
            "Find the snitch in room 869\n",
            "Waiting for new clue for golden snitch in 1.0s CD\n",
            "Find the snitch in room 869\n",
            "Waiting for new clue for golden snitch in 1.0s CD\n",
            "Find the snitch in room 869\n",
            "Waiting for new clue for golden snitch in 1.0s CD\n",
            "Find the snitch in room 869\n",
            "Waiting for new clue for golden snitch in 1.0s CD\n",
            "Find the snitch in room 869\n",
            "Waiting for new clue for golden snitch in 1.0s CD\n",
            "Find the snitch in room 869\n",
            "Waiting for new clue for golden snitch in 1.0s CD\n",
            "Find the snitch in room 869\n",
            "Waiting for new clue for golden snitch in 1.0s CD\n",
            "Find the snitch in room 869\n",
            "Waiting for new clue for golden snitch in 1.0s CD\n",
            "Find the snitch in room 869\n",
            "Waiting for new clue for golden snitch in 1.0s CD\n",
            "Find the snitch in room 869\n",
            "Waited for 30.53s..\n",
            "Waiting for new clue for golden snitch in 1.0s CD\n",
            "Find the snitch in room 869\n",
            "Waited for 31.70s..\n",
            "Waiting for new clue for golden snitch in 1.0s CD\n",
            "Find the snitch in room 869\n",
            "Waited for 32.87s..\n",
            "Waiting for new clue for golden snitch in 1.0s CD\n",
            "Find the snitch in room 869\n",
            "Waited for 34.06s..\n",
            "Waiting for new clue for golden snitch in 1.0s CD\n",
            "Find the snitch in room 869\n",
            "Waited for 35.23s..\n",
            "Waiting for new clue for golden snitch in 1.0s CD\n",
            "Find the snitch in room 869\n",
            "Waited for 36.41s..\n",
            "Waiting for new clue for golden snitch in 1.0s CD\n",
            "Find the snitch in room 869\n",
            "Waited for 37.58s..\n",
            "Waiting for new clue for golden snitch in 1.0s CD\n",
            "Find the snitch in room 869\n",
            "Waited for 38.73s..\n",
            "Waiting for new clue for golden snitch in 1.0s CD\n",
            "Find the snitch in room 869\n",
            "Waited for 39.89s..\n",
            "Waiting for new clue for golden snitch in 1.0s CD\n",
            "Find the snitch in room 869\n",
            "Waited for 41.06s..\n",
            "Waiting for new clue for golden snitch in 1.0s CD\n",
            "Find the snitch in room 869\n",
            "Waited for 42.26s..\n",
            "Waiting for new clue for golden snitch in 1.0s CD\n",
            "Find the snitch in room 869\n",
            "Waited for 43.42s..\n",
            "Waiting for new clue for golden snitch in 1.0s CD\n",
            "Find the snitch in room 869\n",
            "Waited for 44.58s..\n",
            "Waiting for new clue for golden snitch in 1.0s CD\n",
            "Find the snitch in room 869\n",
            "Waited for 45.74s..\n",
            "Waiting for new clue for golden snitch in 1.0s CD\n",
            "Find the snitch in room 869\n",
            "Waited for 46.91s..\n",
            "Waiting for new clue for golden snitch in 1.0s CD\n",
            "Find the snitch in room 869\n",
            "Waited for 48.08s..\n",
            "Waiting for new clue for golden snitch in 1.0s CD\n",
            "Find the snitch in room 869\n",
            "Waited for 49.24s..\n",
            "Waiting for new clue for golden snitch in 1.0s CD\n",
            "Find the snitch in room 869\n",
            "Waited for 50.40s..\n",
            "Waiting for new clue for golden snitch in 1.0s CD\n",
            "Find the snitch in room 869\n",
            "Waited for 51.56s..\n",
            "Waiting for new clue for golden snitch in 1.0s CD\n",
            "Find the snitch in room 869\n",
            "Waited for 52.73s..\n",
            "Waiting for new clue for golden snitch in 1.0s CD\n",
            "Find the snitch in room 869\n",
            "Waited for 53.89s..\n",
            "Waiting for new clue for golden snitch in 1.0s CD\n",
            "Find the snitch in room 869\n",
            "Waited for 55.07s..\n",
            "Waiting for new clue for golden snitch in 1.0s CD\n",
            "Find the snitch in room 869\n",
            "Waited for 56.28s..\n",
            "Waiting for new clue for golden snitch in 1.0s CD\n",
            "Find the snitch in room 869\n",
            "Waited for 57.45s..\n",
            "Waiting for new clue for golden snitch in 1.0s CD\n",
            "Find the snitch in room 869\n",
            "Waited for 58.62s..\n",
            "Waiting for new clue for golden snitch in 1.0s CD\n",
            "Find the snitch in room 869\n",
            "Waited for 59.80s..\n",
            "Waiting for new clue for golden snitch in 1.0s CD\n",
            "Find the snitch in room 869\n",
            "Waited for 60.95s..\n",
            "Heading to the Room[869].. [555, 528, 516, 527, 537, 547, 575, 613, 616, 628, 681, 685, 744, 797, 807, 869]\n",
            "Room[555] to Room[528]\n",
            "CD: 2.70, ['You have flown north.', 'Flight Bonus: -10% CD', 'Wise Explorer: -50% CD']\n",
            "['nice jacket', 'nice boots'] found in Room[528]\n",
            "Room[528] to Room[516]\n",
            "CD: 2.70, ['You have flown north.', 'Flight Bonus: -10% CD', 'Wise Explorer: -50% CD']\n",
            "Dash - Room[516] w to [527, 537, 547, 575, 613, 616, 628, 681, 685]\n",
            "CD: 10.50, ['You have dashed to room 527.', 'You have dashed to room 537.', 'You have dashed to room 547.', 'You have dashed to room 575.', 'You have dashed to room 613.', 'You have dashed to room 616.', 'You have dashed to room 628.', 'You have dashed to room 681.', 'You have dashed to room 685.']\n",
            "Room[685] to Room[744]\n",
            "CD: 2.70, ['You have flown south.', 'Flight Bonus: -10% CD', 'Wise Explorer: -50% CD']\n",
            "Dash - Room[744] w to [797, 807, 869]\n",
            "CD: 7.50, ['You have dashed to room 797.', 'You have dashed to room 807.', 'You have dashed to room 869.']\n",
            "['golden snitch'] found in Room[869]\n",
            "Taking golden snitch!\n",
            "Recall path (8) < base path (16)\n",
            "RECALLING to Room[0]! CD: 6.0\n"
          ],
          "name": "stdout"
        },
        {
          "output_type": "error",
          "ename": "KeyboardInterrupt",
          "evalue": "ignored",
          "traceback": [
            "\u001b[0;31m---------------------------------------------------------------------------\u001b[0m",
            "\u001b[0;31mKeyboardInterrupt\u001b[0m                         Traceback (most recent call last)",
            "\u001b[0;32m<ipython-input-22-6f3005123672>\u001b[0m in \u001b[0;36m<module>\u001b[0;34m()\u001b[0m\n\u001b[1;32m      6\u001b[0m \u001b[0;32mwhile\u001b[0m \u001b[0;32mTrue\u001b[0m\u001b[0;34m:\u001b[0m\u001b[0;34m\u001b[0m\u001b[0;34m\u001b[0m\u001b[0m\n\u001b[1;32m      7\u001b[0m   \u001b[0;31m# Head to large wishing well 555\u001b[0m\u001b[0;34m\u001b[0m\u001b[0;34m\u001b[0m\u001b[0;34m\u001b[0m\u001b[0m\n\u001b[0;32m----> 8\u001b[0;31m   \u001b[0mcurrent\u001b[0m \u001b[0;34m=\u001b[0m \u001b[0mmap_traversal\u001b[0m\u001b[0;34m(\u001b[0m\u001b[0mcurrent\u001b[0m\u001b[0;34m,\u001b[0m \u001b[0;36m555\u001b[0m\u001b[0;34m,\u001b[0m \u001b[0;32mTrue\u001b[0m\u001b[0;34m,\u001b[0m \u001b[0;32mTrue\u001b[0m\u001b[0;34m)\u001b[0m\u001b[0;34m\u001b[0m\u001b[0;34m\u001b[0m\u001b[0m\n\u001b[0m\u001b[1;32m      9\u001b[0m   \u001b[0mtime\u001b[0m\u001b[0;34m.\u001b[0m\u001b[0msleep\u001b[0m\u001b[0;34m(\u001b[0m\u001b[0mcurrent\u001b[0m\u001b[0;34m[\u001b[0m\u001b[0;34m'cooldown'\u001b[0m\u001b[0;34m]\u001b[0m\u001b[0;34m)\u001b[0m\u001b[0;34m\u001b[0m\u001b[0;34m\u001b[0m\u001b[0m\n\u001b[1;32m     10\u001b[0m   \u001b[0;31m# get message\u001b[0m\u001b[0;34m\u001b[0m\u001b[0;34m\u001b[0m\u001b[0;34m\u001b[0m\u001b[0m\n",
            "\u001b[0;32m<ipython-input-12-e937882cf1f8>\u001b[0m in \u001b[0;36mmap_traversal\u001b[0;34m(current_room, destination, pick_item, alt_dim)\u001b[0m\n\u001b[1;32m     12\u001b[0m       \u001b[0mcurrent_room\u001b[0m \u001b[0;34m=\u001b[0m \u001b[0mrecall\u001b[0m\u001b[0;34m(\u001b[0m\u001b[0;34m)\u001b[0m\u001b[0;34m\u001b[0m\u001b[0;34m\u001b[0m\u001b[0m\n\u001b[1;32m     13\u001b[0m       \u001b[0mprint\u001b[0m\u001b[0;34m(\u001b[0m\u001b[0;34mf'RECALLING to Room[0]! CD: {current_room[\"cooldown\"]}'\u001b[0m\u001b[0;34m)\u001b[0m\u001b[0;34m\u001b[0m\u001b[0;34m\u001b[0m\u001b[0m\n\u001b[0;32m---> 14\u001b[0;31m       \u001b[0mtime\u001b[0m\u001b[0;34m.\u001b[0m\u001b[0msleep\u001b[0m\u001b[0;34m(\u001b[0m\u001b[0mcurrent_room\u001b[0m\u001b[0;34m[\u001b[0m\u001b[0;34m'cooldown'\u001b[0m\u001b[0;34m]\u001b[0m\u001b[0;34m)\u001b[0m\u001b[0;34m\u001b[0m\u001b[0;34m\u001b[0m\u001b[0m\n\u001b[0m\u001b[1;32m     15\u001b[0m       \u001b[0mcurrent_room\u001b[0m \u001b[0;34m=\u001b[0m \u001b[0mwarp\u001b[0m\u001b[0;34m(\u001b[0m\u001b[0;34m)\u001b[0m\u001b[0;34m\u001b[0m\u001b[0;34m\u001b[0m\u001b[0m\n\u001b[1;32m     16\u001b[0m       \u001b[0mprint\u001b[0m\u001b[0;34m(\u001b[0m\u001b[0;34mf'Warping to Room[500]! CD: {current_room[\"cooldown\"]}'\u001b[0m\u001b[0;34m)\u001b[0m\u001b[0;34m\u001b[0m\u001b[0;34m\u001b[0m\u001b[0m\n",
            "\u001b[0;31mKeyboardInterrupt\u001b[0m: "
          ]
        }
      ]
    },
    {
      "cell_type": "markdown",
      "metadata": {
        "id": "2cg96NT7nF5X",
        "colab_type": "text"
      },
      "source": [
        "# Traverse Unknown Map"
      ]
    },
    {
      "cell_type": "code",
      "metadata": {
        "id": "7_BIg6wFn-QU",
        "colab_type": "code",
        "outputId": "63ee4c07-46fd-42aa-fe51-e381f3eff953",
        "colab": {
          "base_uri": "https://localhost:8080/",
          "height": 1000
        }
      },
      "source": [
        "# Mapping out alternate dimension (room_id > 499)\n",
        "current = init(token)\n",
        "time.sleep(current['cooldown'])\n",
        "while True:\n",
        "  current_exits = graph[current['room_id']][0]\n",
        "  directions = []\n",
        "  for direction, room_id in current_exits.items():\n",
        "    # If adjacent room_id not visited yet, add that direction\n",
        "    if room_id == \"?\":\n",
        "      directions.append(direction)\n",
        "  if len(directions) == 0:\n",
        "    print('All adjacent rooms visited..')\n",
        "    end_room = map_traversal(current, \"?\", True, True)\n",
        "  else:\n",
        "    next_move = random.choice(directions)\n",
        "    print(f\"Room[{current['room_id']}] to the unknown.. ({len(graph)}/1000)\")\n",
        "    end_room = movement(current['room_id'], next_move)\n",
        "    print(f\"CD: {end_room['cooldown']}, {end_room['messages']}\")\n",
        "\n",
        "  if len(end_room['errors']) > 0:\n",
        "    print(f\"Error: {end_room['errors']}\")\n",
        "    break\n",
        "\n",
        "  quality = ['sparkling','brilliant','dazzling','spectacular','amazing','great','golden','nice','well-crafted','exquisite']\n",
        "  if len(end_room['items']) > 0:\n",
        "    print(f'{end_room[\"items\"]} found in Room[{end_room[\"room_id\"]}]')\n",
        "    for item in end_room['items']:          \n",
        "      item_grade = item.split(' ')[0]\n",
        "      if item_grade in quality:\n",
        "        time.sleep(end_room['cooldown'])\n",
        "        end_room = take_item(item)\n",
        "\n",
        "  # print(end_room['room_id'], graph[end_room['room_id']][0])\n",
        "  print(end_room)\n",
        "  current = end_room\n",
        "  time.sleep(current['cooldown'])"
      ],
      "execution_count": 0,
      "outputs": [
        {
          "output_type": "stream",
          "text": [
            "Room[747] to the unknown.. (986/1000)\n",
            "CD: 9.0, ['You have flown north.', 'Flight Bonus: -10% CD']\n",
            "{'room_id': 839, 'title': 'Darkness', 'description': 'You are standing on grass and surrounded by darkness.', 'coordinates': '(55,70)', 'elevation': 0, 'terrain': 'NORMAL', 'players': [], 'items': [], 'exits': ['s', 'w'], 'cooldown': 9.0, 'errors': [], 'messages': ['You have flown north.', 'Flight Bonus: -10% CD']}\n",
            "Room[839] to the unknown.. (987/1000)\n",
            "CD: 9.0, ['You have flown west.', 'Flight Bonus: -10% CD']\n",
            "{'room_id': 911, 'title': 'Darkness', 'description': 'You are standing on grass and surrounded by darkness.', 'coordinates': '(54,70)', 'elevation': 0, 'terrain': 'NORMAL', 'players': [], 'items': [], 'exits': ['e', 'w'], 'cooldown': 9.0, 'errors': [], 'messages': ['You have flown west.', 'Flight Bonus: -10% CD']}\n",
            "Room[911] to the unknown.. (988/1000)\n",
            "CD: 9.0, ['You have flown west.', 'Flight Bonus: -10% CD']\n",
            "{'room_id': 921, 'title': 'Darkness', 'description': 'You are standing on grass and surrounded by darkness.', 'coordinates': '(53,70)', 'elevation': 0, 'terrain': 'NORMAL', 'players': [], 'items': [], 'exits': ['e', 'w'], 'cooldown': 9.0, 'errors': [], 'messages': ['You have flown west.', 'Flight Bonus: -10% CD']}\n",
            "Room[921] to the unknown.. (989/1000)\n",
            "CD: 9.0, ['You have flown west.', 'Flight Bonus: -10% CD']\n",
            "{'room_id': 990, 'title': 'Darkness', 'description': 'You are standing on grass and surrounded by darkness.', 'coordinates': '(52,70)', 'elevation': 0, 'terrain': 'NORMAL', 'players': [], 'items': [], 'exits': ['e', 'w'], 'cooldown': 9.0, 'errors': [], 'messages': ['You have flown west.', 'Flight Bonus: -10% CD']}\n",
            "Room[990] to the unknown.. (990/1000)\n",
            "CD: 9.0, ['You have flown west.', 'Flight Bonus: -10% CD']\n",
            "{'room_id': 991, 'title': 'Darkness', 'description': 'You are standing on grass and surrounded by darkness.', 'coordinates': '(51,70)', 'elevation': 0, 'terrain': 'NORMAL', 'players': [], 'items': [], 'exits': ['e'], 'cooldown': 9.0, 'errors': [], 'messages': ['You have flown west.', 'Flight Bonus: -10% CD']}\n",
            "All adjacent rooms visited..\n",
            "Heading to the Room[?].. [991, 990, 921, 911, 839, 747, '?']\n",
            "Dash - Room[991] e to [990, 921, 911, 839]\n",
            "{\"direction\":\"e\",\"num_rooms\":\"4\",\"next_room_ids\":\"990,921,911,839\"}\n",
            "CD: 12.00, ['You have dashed to room 990.', 'You have dashed to room 921.', 'You have dashed to room 911.', 'You have dashed to room 839.']\n",
            "Room[839] to Room[747]\n",
            "{'room_id': 747, 'title': 'Darkness', 'description': 'You are standing on grass and surrounded by darkness.', 'coordinates': '(55,69)', 'elevation': 0, 'terrain': 'NORMAL', 'players': [], 'items': [], 'exits': ['n', 's', 'w'], 'cooldown': 4.5, 'errors': [], 'messages': ['You have flown south.', 'Flight Bonus: -10% CD', 'Wise Explorer: -50% CD']}\n",
            "CD: 4.50, ['You have flown south.', 'Flight Bonus: -10% CD', 'Wise Explorer: -50% CD']\n",
            "Room[747] to Room[828]\n",
            "{'room_id': 828, 'title': 'Darkness', 'description': 'You are standing on grass and surrounded by darkness.', 'coordinates': '(54,69)', 'elevation': 0, 'terrain': 'NORMAL', 'players': [], 'items': [], 'exits': ['e'], 'cooldown': 9.0, 'errors': [], 'messages': ['You have flown west.', 'Flight Bonus: -10% CD']}\n",
            "CD: 9.00, ['You have flown west.', 'Flight Bonus: -10% CD']\n",
            "CD: 9.0, ['You have flown west.', 'Flight Bonus: -10% CD']\n",
            "{'room_id': 828, 'title': 'Darkness', 'description': 'You are standing on grass and surrounded by darkness.', 'coordinates': '(54,69)', 'elevation': 0, 'terrain': 'NORMAL', 'players': [], 'items': [], 'exits': ['e'], 'cooldown': 9.0, 'errors': [], 'messages': ['You have flown west.', 'Flight Bonus: -10% CD']}\n",
            "All adjacent rooms visited..\n",
            "Heading to the Room[?].. [828, 747, 713, 683, 641, 594, '?']\n",
            "Room[828] to Room[747]\n",
            "{'room_id': 747, 'title': 'Darkness', 'description': 'You are standing on grass and surrounded by darkness.', 'coordinates': '(55,69)', 'elevation': 0, 'terrain': 'NORMAL', 'players': [], 'items': [], 'exits': ['n', 's', 'w'], 'cooldown': 4.5, 'errors': [], 'messages': ['You have flown east.', 'Flight Bonus: -10% CD', 'Wise Explorer: -50% CD']}\n",
            "CD: 4.50, ['You have flown east.', 'Flight Bonus: -10% CD', 'Wise Explorer: -50% CD']\n",
            "Room[747] to Room[713]\n",
            "{'room_id': 713, 'title': 'Darkness', 'description': 'You are standing on grass and surrounded by darkness.', 'coordinates': '(55,68)', 'elevation': 0, 'terrain': 'NORMAL', 'players': [], 'items': [], 'exits': ['n', 's'], 'cooldown': 4.5, 'errors': [], 'messages': ['You have flown south.', 'Flight Bonus: -10% CD', 'Wise Explorer: -50% CD']}\n",
            "CD: 4.50, ['You have flown south.', 'Flight Bonus: -10% CD', 'Wise Explorer: -50% CD']\n",
            "Room[713] to Room[683]\n",
            "{'room_id': 683, 'title': 'Darkness', 'description': 'You are standing on grass and surrounded by darkness.', 'coordinates': '(55,67)', 'elevation': 0, 'terrain': 'NORMAL', 'players': [], 'items': [], 'exits': ['n', 'e'], 'cooldown': 4.5, 'errors': [], 'messages': ['You have flown south.', 'Flight Bonus: -10% CD', 'Wise Explorer: -50% CD']}\n",
            "CD: 4.50, ['You have flown south.', 'Flight Bonus: -10% CD', 'Wise Explorer: -50% CD']\n",
            "Room[683] to Room[641]\n",
            "{'room_id': 641, 'title': 'Darkness', 'description': 'You are standing on grass and surrounded by darkness.', 'coordinates': '(56,67)', 'elevation': 0, 'terrain': 'NORMAL', 'players': [], 'items': [], 'exits': ['n', 'e', 'w'], 'cooldown': 4.5, 'errors': [], 'messages': ['You have flown east.', 'Flight Bonus: -10% CD', 'Wise Explorer: -50% CD']}\n",
            "CD: 4.50, ['You have flown east.', 'Flight Bonus: -10% CD', 'Wise Explorer: -50% CD']\n",
            "Room[641] to Room[594]\n",
            "{'room_id': 594, 'title': 'Darkness', 'description': 'You are standing on grass and surrounded by darkness.', 'coordinates': '(57,67)', 'elevation': 0, 'terrain': 'NORMAL', 'players': [], 'items': [], 'exits': ['n', 's', 'e', 'w'], 'cooldown': 4.5, 'errors': [], 'messages': ['You have flown east.', 'Flight Bonus: -10% CD', 'Wise Explorer: -50% CD']}\n",
            "CD: 4.50, ['You have flown east.', 'Flight Bonus: -10% CD', 'Wise Explorer: -50% CD']\n",
            "Room[594] to Room[649]\n",
            "{'room_id': 649, 'title': 'Darkness', 'description': 'You are standing on grass and surrounded by darkness.', 'coordinates': '(57,68)', 'elevation': 0, 'terrain': 'NORMAL', 'players': [], 'items': [], 'exits': ['s'], 'cooldown': 9.0, 'errors': [], 'messages': ['You have flown north.', 'Flight Bonus: -10% CD']}\n",
            "CD: 9.00, ['You have flown north.', 'Flight Bonus: -10% CD']\n",
            "CD: 9.0, ['You have flown north.', 'Flight Bonus: -10% CD']\n",
            "{'room_id': 649, 'title': 'Darkness', 'description': 'You are standing on grass and surrounded by darkness.', 'coordinates': '(57,68)', 'elevation': 0, 'terrain': 'NORMAL', 'players': [], 'items': [], 'exits': ['s'], 'cooldown': 9.0, 'errors': [], 'messages': ['You have flown north.', 'Flight Bonus: -10% CD']}\n",
            "All adjacent rooms visited..\n",
            "Heading to the Room[?].. [649, 594, '?']\n",
            "Room[649] to Room[594]\n",
            "{'room_id': 594, 'title': 'Darkness', 'description': 'You are standing on grass and surrounded by darkness.', 'coordinates': '(57,67)', 'elevation': 0, 'terrain': 'NORMAL', 'players': [], 'items': [], 'exits': ['n', 's', 'e', 'w'], 'cooldown': 4.5, 'errors': [], 'messages': ['You have flown south.', 'Flight Bonus: -10% CD', 'Wise Explorer: -50% CD']}\n",
            "CD: 4.50, ['You have flown south.', 'Flight Bonus: -10% CD', 'Wise Explorer: -50% CD']\n",
            "Room[594] to Room[622]\n",
            "{'room_id': 622, 'title': 'Darkness', 'description': 'You are standing on grass and surrounded by darkness.', 'coordinates': '(58,67)', 'elevation': 0, 'terrain': 'NORMAL', 'players': [], 'items': [], 'exits': ['w'], 'cooldown': 9.0, 'errors': [], 'messages': ['You have flown east.', 'Flight Bonus: -10% CD']}\n",
            "CD: 9.00, ['You have flown east.', 'Flight Bonus: -10% CD']\n",
            "CD: 9.0, ['You have flown east.', 'Flight Bonus: -10% CD']\n",
            "{'room_id': 622, 'title': 'Darkness', 'description': 'You are standing on grass and surrounded by darkness.', 'coordinates': '(58,67)', 'elevation': 0, 'terrain': 'NORMAL', 'players': [], 'items': [], 'exits': ['w'], 'cooldown': 9.0, 'errors': [], 'messages': ['You have flown east.', 'Flight Bonus: -10% CD']}\n",
            "All adjacent rooms visited..\n",
            "Heading to the Room[?].. [622, 594, 587, '?']\n",
            "Room[622] to Room[594]\n",
            "{'room_id': 594, 'title': 'Darkness', 'description': 'You are standing on grass and surrounded by darkness.', 'coordinates': '(57,67)', 'elevation': 0, 'terrain': 'NORMAL', 'players': [], 'items': [], 'exits': ['n', 's', 'e', 'w'], 'cooldown': 4.5, 'errors': [], 'messages': ['You have flown west.', 'Flight Bonus: -10% CD', 'Wise Explorer: -50% CD']}\n",
            "CD: 4.50, ['You have flown west.', 'Flight Bonus: -10% CD', 'Wise Explorer: -50% CD']\n",
            "Room[594] to Room[587]\n",
            "{'room_id': 587, 'title': 'Darkness', 'description': 'You are standing on grass and surrounded by darkness.', 'coordinates': '(57,66)', 'elevation': 0, 'terrain': 'NORMAL', 'players': [], 'items': [], 'exits': ['n', 'e', 'w'], 'cooldown': 4.5, 'errors': [], 'messages': ['You have flown south.', 'Flight Bonus: -10% CD', 'Wise Explorer: -50% CD']}\n",
            "CD: 4.50, ['You have flown south.', 'Flight Bonus: -10% CD', 'Wise Explorer: -50% CD']\n",
            "Room[587] to Room[592]\n",
            "{'room_id': 592, 'title': 'Darkness', 'description': 'You are standing on grass and surrounded by darkness.', 'coordinates': '(56,66)', 'elevation': 0, 'terrain': 'NORMAL', 'players': [], 'items': [], 'exits': ['e', 'w'], 'cooldown': 9.0, 'errors': [], 'messages': ['You have flown west.', 'Flight Bonus: -10% CD']}\n",
            "CD: 9.00, ['You have flown west.', 'Flight Bonus: -10% CD']\n",
            "CD: 9.0, ['You have flown west.', 'Flight Bonus: -10% CD']\n",
            "{'room_id': 592, 'title': 'Darkness', 'description': 'You are standing on grass and surrounded by darkness.', 'coordinates': '(56,66)', 'elevation': 0, 'terrain': 'NORMAL', 'players': [], 'items': [], 'exits': ['e', 'w'], 'cooldown': 9.0, 'errors': [], 'messages': ['You have flown west.', 'Flight Bonus: -10% CD']}\n",
            "Room[592] to the unknown.. (995/1000)\n",
            "CD: 9.0, ['You have flown west.', 'Flight Bonus: -10% CD']\n",
            "{'room_id': 697, 'title': 'Darkness', 'description': 'You are standing on grass and surrounded by darkness.', 'coordinates': '(55,66)', 'elevation': 0, 'terrain': 'NORMAL', 'players': [], 'items': [], 'exits': ['e'], 'cooldown': 9.0, 'errors': [], 'messages': ['You have flown west.', 'Flight Bonus: -10% CD']}\n",
            "All adjacent rooms visited..\n",
            "Heading to the Room[?].. [697, 592, 587, 558, 551, 534, 512, 541, '?']\n",
            "Dash - Room[697] e to [592, 587, 558, 551]\n",
            "{\"direction\":\"e\",\"num_rooms\":\"4\",\"next_room_ids\":\"592,587,558,551\"}\n",
            "CD: 12.00, ['You have dashed to room 592.', 'You have dashed to room 587.', 'You have dashed to room 558.', 'You have dashed to room 551.']\n",
            "Room[551] to Room[534]\n",
            "{'room_id': 534, 'title': 'Darkness', 'description': 'You are standing on grass and surrounded by darkness.', 'coordinates': '(59,65)', 'elevation': 0, 'terrain': 'NORMAL', 'players': [], 'items': [], 'exits': ['n', 's'], 'cooldown': 4.5, 'errors': [], 'messages': ['You have flown south.', 'Flight Bonus: -10% CD', 'Wise Explorer: -50% CD']}\n",
            "CD: 4.50, ['You have flown south.', 'Flight Bonus: -10% CD', 'Wise Explorer: -50% CD']\n",
            "Room[534] to Room[512]\n",
            "{'room_id': 512, 'title': 'Darkness', 'description': 'You are standing on grass and surrounded by darkness.', 'coordinates': '(59,64)', 'elevation': 0, 'terrain': 'NORMAL', 'players': [], 'items': [], 'exits': ['n', 's', 'w'], 'cooldown': 4.5, 'errors': [], 'messages': ['You have flown south.', 'Flight Bonus: -10% CD', 'Wise Explorer: -50% CD']}\n",
            "CD: 4.50, ['You have flown south.', 'Flight Bonus: -10% CD', 'Wise Explorer: -50% CD']\n",
            "Room[512] to Room[541]\n",
            "{'room_id': 541, 'title': 'Darkness', 'description': 'You are standing on grass and surrounded by darkness.', 'coordinates': '(58,64)', 'elevation': 0, 'terrain': 'NORMAL', 'players': [], 'items': [], 'exits': ['n', 'e', 'w'], 'cooldown': 4.5, 'errors': [], 'messages': ['You have flown west.', 'Flight Bonus: -10% CD', 'Wise Explorer: -50% CD']}\n",
            "CD: 4.50, ['You have flown west.', 'Flight Bonus: -10% CD', 'Wise Explorer: -50% CD']\n",
            "Room[541] to Room[543]\n",
            "{'room_id': 543, 'title': 'Darkness', 'description': 'You are standing on grass and surrounded by darkness.', 'coordinates': '(58,65)', 'elevation': 0, 'terrain': 'NORMAL', 'players': [], 'items': [], 'exits': ['s'], 'cooldown': 9.0, 'errors': [], 'messages': ['You have flown north.', 'Flight Bonus: -10% CD']}\n",
            "CD: 9.00, ['You have flown north.', 'Flight Bonus: -10% CD']\n",
            "CD: 9.0, ['You have flown north.', 'Flight Bonus: -10% CD']\n",
            "{'room_id': 543, 'title': 'Darkness', 'description': 'You are standing on grass and surrounded by darkness.', 'coordinates': '(58,65)', 'elevation': 0, 'terrain': 'NORMAL', 'players': [], 'items': [], 'exits': ['s'], 'cooldown': 9.0, 'errors': [], 'messages': ['You have flown north.', 'Flight Bonus: -10% CD']}\n",
            "All adjacent rooms visited..\n",
            "Heading to the Room[?].. [543, 541, 546, 548, 605, '?']\n",
            "Room[543] to Room[541]\n",
            "{'room_id': 541, 'title': 'Darkness', 'description': 'You are standing on grass and surrounded by darkness.', 'coordinates': '(58,64)', 'elevation': 0, 'terrain': 'NORMAL', 'players': [], 'items': [], 'exits': ['n', 'e', 'w'], 'cooldown': 4.5, 'errors': [], 'messages': ['You have flown south.', 'Flight Bonus: -10% CD', 'Wise Explorer: -50% CD']}\n",
            "CD: 4.50, ['You have flown south.', 'Flight Bonus: -10% CD', 'Wise Explorer: -50% CD']\n",
            "Room[541] to Room[546]\n",
            "{'room_id': 546, 'title': 'Darkness', 'description': 'You are standing on grass and surrounded by darkness.', 'coordinates': '(57,64)', 'elevation': 0, 'terrain': 'NORMAL', 'players': [], 'items': [], 'exits': ['n', 'e', 'w'], 'cooldown': 4.5, 'errors': [], 'messages': ['You have flown west.', 'Flight Bonus: -10% CD', 'Wise Explorer: -50% CD']}\n",
            "CD: 4.50, ['You have flown west.', 'Flight Bonus: -10% CD', 'Wise Explorer: -50% CD']\n",
            "Room[546] to Room[548]\n",
            "{'room_id': 548, 'title': 'Darkness', 'description': 'You are standing on grass and surrounded by darkness.', 'coordinates': '(56,64)', 'elevation': 0, 'terrain': 'NORMAL', 'players': [], 'items': [], 'exits': ['n', 'e', 'w'], 'cooldown': 4.5, 'errors': [], 'messages': ['You have flown west.', 'Flight Bonus: -10% CD', 'Wise Explorer: -50% CD']}\n",
            "CD: 4.50, ['You have flown west.', 'Flight Bonus: -10% CD', 'Wise Explorer: -50% CD']\n",
            "Room[548] to Room[605]\n",
            "{'room_id': 605, 'title': 'Darkness', 'description': 'You are standing on grass and surrounded by darkness.', 'coordinates': '(55,64)', 'elevation': 0, 'terrain': 'NORMAL', 'players': [], 'items': [], 'exits': ['n', 'e', 'w'], 'cooldown': 4.5, 'errors': [], 'messages': ['You have flown west.', 'Flight Bonus: -10% CD', 'Wise Explorer: -50% CD']}\n",
            "CD: 4.50, ['You have flown west.', 'Flight Bonus: -10% CD', 'Wise Explorer: -50% CD']\n",
            "Room[605] to Room[679]\n",
            "{'room_id': 679, 'title': 'Darkness', 'description': 'You are standing on grass and surrounded by darkness.', 'coordinates': '(55,65)', 'elevation': 0, 'terrain': 'NORMAL', 'players': [], 'items': [], 'exits': ['s'], 'cooldown': 9.0, 'errors': [], 'messages': ['You have flown north.', 'Flight Bonus: -10% CD']}\n",
            "CD: 9.00, ['You have flown north.', 'Flight Bonus: -10% CD']\n",
            "CD: 9.0, ['You have flown north.', 'Flight Bonus: -10% CD']\n",
            "{'room_id': 679, 'title': 'Darkness', 'description': 'You are standing on grass and surrounded by darkness.', 'coordinates': '(55,65)', 'elevation': 0, 'terrain': 'NORMAL', 'players': [], 'items': [], 'exits': ['s'], 'cooldown': 9.0, 'errors': [], 'messages': ['You have flown north.', 'Flight Bonus: -10% CD']}\n",
            "All adjacent rooms visited..\n",
            "Heading to the Room[?].. [679, 605, 548, 546, 541, 512, 511, 507, 506, 504, 500, '?']\n",
            "Room[679] to Room[605]\n",
            "{'room_id': 605, 'title': 'Darkness', 'description': 'You are standing on grass and surrounded by darkness.', 'coordinates': '(55,64)', 'elevation': 0, 'terrain': 'NORMAL', 'players': [], 'items': [], 'exits': ['n', 'e', 'w'], 'cooldown': 4.5, 'errors': [], 'messages': ['You have flown south.', 'Flight Bonus: -10% CD', 'Wise Explorer: -50% CD']}\n",
            "CD: 4.50, ['You have flown south.', 'Flight Bonus: -10% CD', 'Wise Explorer: -50% CD']\n",
            "Dash - Room[605] e to [548, 546, 541, 512]\n",
            "{\"direction\":\"e\",\"num_rooms\":\"4\",\"next_room_ids\":\"548,546,541,512\"}\n",
            "CD: 12.00, ['You have dashed to room 548.', 'You have dashed to room 546.', 'You have dashed to room 541.', 'You have dashed to room 512.']\n",
            "Room[512] to Room[511]\n",
            "{'room_id': 511, 'title': 'Darkness', 'description': 'You are standing on grass and surrounded by darkness.', 'coordinates': '(59,63)', 'elevation': 0, 'terrain': 'NORMAL', 'players': [], 'items': [], 'exits': ['n', 'e', 'w'], 'cooldown': 4.5, 'errors': [], 'messages': ['You have flown south.', 'Flight Bonus: -10% CD', 'Wise Explorer: -50% CD']}\n",
            "CD: 4.50, ['You have flown south.', 'Flight Bonus: -10% CD', 'Wise Explorer: -50% CD']\n",
            "Room[511] to Room[507]\n",
            "{'room_id': 507, 'title': 'Darkness', 'description': 'You are standing on grass and surrounded by darkness.', 'coordinates': '(60,63)', 'elevation': 0, 'terrain': 'NORMAL', 'players': ['Phil Smith', 'Dr Cooldown'], 'items': [], 'exits': ['n', 's', 'e', 'w'], 'cooldown': 4.5, 'errors': [], 'messages': ['You have flown east.', 'Flight Bonus: -10% CD', 'Wise Explorer: -50% CD']}\n",
            "CD: 4.50, ['You have flown east.', 'Flight Bonus: -10% CD', 'Wise Explorer: -50% CD']\n",
            "Room[507] to Room[506]\n",
            "{'room_id': 506, 'title': 'Darkness', 'description': 'You are standing on grass and surrounded by darkness.', 'coordinates': '(60,62)', 'elevation': 0, 'terrain': 'NORMAL', 'players': [], 'items': [], 'exits': ['n', 's', 'e', 'w'], 'cooldown': 4.5, 'errors': [], 'messages': ['You have flown south.', 'Flight Bonus: -10% CD', 'Wise Explorer: -50% CD']}\n",
            "CD: 4.50, ['You have flown south.', 'Flight Bonus: -10% CD', 'Wise Explorer: -50% CD']\n",
            "Room[506] to Room[504]\n",
            "{'room_id': 504, 'title': 'Darkness', 'description': 'You are standing on grass and surrounded by darkness.', 'coordinates': '(60,61)', 'elevation': 0, 'terrain': 'NORMAL', 'players': [], 'items': [], 'exits': ['n', 's', 'e', 'w'], 'cooldown': 4.5, 'errors': [], 'messages': ['You have flown south.', 'Flight Bonus: -10% CD', 'Wise Explorer: -50% CD']}\n",
            "CD: 4.50, ['You have flown south.', 'Flight Bonus: -10% CD', 'Wise Explorer: -50% CD']\n",
            "Room[504] to Room[500]\n",
            "{'room_id': 500, 'title': 'Darkness', 'description': 'You are standing on grass and surrounded by darkness.', 'coordinates': '(60,60)', 'elevation': 0, 'terrain': 'NORMAL', 'players': ['SPECTRA'], 'items': [], 'exits': ['n', 's', 'e', 'w'], 'cooldown': 4.5, 'errors': [], 'messages': ['You have flown south.', 'Flight Bonus: -10% CD', 'Wise Explorer: -50% CD']}\n",
            "CD: 4.50, ['You have flown south.', 'Flight Bonus: -10% CD', 'Wise Explorer: -50% CD']\n",
            "Room[500] to Room[503]\n",
            "{'room_id': 503, 'title': 'Darkness', 'description': 'You are standing on grass and surrounded by darkness.', 'coordinates': '(61,60)', 'elevation': 0, 'terrain': 'NORMAL', 'players': [], 'items': [], 'exits': ['w'], 'cooldown': 9.0, 'errors': [], 'messages': ['You have flown east.', 'Flight Bonus: -10% CD']}\n",
            "CD: 9.00, ['You have flown east.', 'Flight Bonus: -10% CD']\n",
            "CD: 9.0, ['You have flown east.', 'Flight Bonus: -10% CD']\n",
            "{'room_id': 503, 'title': 'Darkness', 'description': 'You are standing on grass and surrounded by darkness.', 'coordinates': '(61,60)', 'elevation': 0, 'terrain': 'NORMAL', 'players': [], 'items': [], 'exits': ['w'], 'cooldown': 9.0, 'errors': [], 'messages': ['You have flown east.', 'Flight Bonus: -10% CD']}\n",
            "All adjacent rooms visited..\n",
            "Heading to the Room[?].. [503, 500, '?']\n",
            "Room[503] to Room[500]\n",
            "{'room_id': 500, 'title': 'Darkness', 'description': 'You are standing on grass and surrounded by darkness.', 'coordinates': '(60,60)', 'elevation': 0, 'terrain': 'NORMAL', 'players': ['SPECTRA'], 'items': [], 'exits': ['n', 's', 'e', 'w'], 'cooldown': 4.5, 'errors': [], 'messages': ['You have flown west.', 'Flight Bonus: -10% CD', 'Wise Explorer: -50% CD']}\n",
            "CD: 4.50, ['You have flown west.', 'Flight Bonus: -10% CD', 'Wise Explorer: -50% CD']\n",
            "Room[500] to Room[501]\n",
            "{'room_id': 501, 'title': 'Darkness', 'description': 'You are standing on grass and surrounded by darkness.', 'coordinates': '(59,60)', 'elevation': 0, 'terrain': 'NORMAL', 'players': [], 'items': [], 'exits': ['e'], 'cooldown': 9.0, 'errors': [], 'messages': ['You have flown west.', 'Flight Bonus: -10% CD']}\n",
            "CD: 9.00, ['You have flown west.', 'Flight Bonus: -10% CD']\n",
            "CD: 9.0, ['You have flown west.', 'Flight Bonus: -10% CD']\n",
            "{'room_id': 501, 'title': 'Darkness', 'description': 'You are standing on grass and surrounded by darkness.', 'coordinates': '(59,60)', 'elevation': 0, 'terrain': 'NORMAL', 'players': [], 'items': [], 'exits': ['e'], 'cooldown': 9.0, 'errors': [], 'messages': ['You have flown west.', 'Flight Bonus: -10% CD']}\n",
            "All adjacent rooms visited..\n",
            "Heading to the Room[?].. []\n",
            "CD: 9.0, ['You have flown west.', 'Flight Bonus: -10% CD']\n",
            "{'room_id': 501, 'title': 'Darkness', 'description': 'You are standing on grass and surrounded by darkness.', 'coordinates': '(59,60)', 'elevation': 0, 'terrain': 'NORMAL', 'players': [], 'items': [], 'exits': ['e'], 'cooldown': 9.0, 'errors': [], 'messages': ['You have flown west.', 'Flight Bonus: -10% CD']}\n"
          ],
          "name": "stdout"
        },
        {
          "output_type": "error",
          "ename": "KeyboardInterrupt",
          "evalue": "ignored",
          "traceback": [
            "\u001b[0;31m---------------------------------------------------------------------------\u001b[0m",
            "\u001b[0;31mKeyboardInterrupt\u001b[0m                         Traceback (most recent call last)",
            "\u001b[0;32m<ipython-input-233-99370c9e1e18>\u001b[0m in \u001b[0;36m<module>\u001b[0;34m()\u001b[0m\n\u001b[1;32m     33\u001b[0m   \u001b[0mprint\u001b[0m\u001b[0;34m(\u001b[0m\u001b[0mend_room\u001b[0m\u001b[0;34m)\u001b[0m\u001b[0;34m\u001b[0m\u001b[0;34m\u001b[0m\u001b[0m\n\u001b[1;32m     34\u001b[0m   \u001b[0mcurrent\u001b[0m \u001b[0;34m=\u001b[0m \u001b[0mend_room\u001b[0m\u001b[0;34m\u001b[0m\u001b[0;34m\u001b[0m\u001b[0m\n\u001b[0;32m---> 35\u001b[0;31m   \u001b[0mtime\u001b[0m\u001b[0;34m.\u001b[0m\u001b[0msleep\u001b[0m\u001b[0;34m(\u001b[0m\u001b[0mcurrent\u001b[0m\u001b[0;34m[\u001b[0m\u001b[0;34m'cooldown'\u001b[0m\u001b[0;34m]\u001b[0m\u001b[0;34m)\u001b[0m\u001b[0;34m\u001b[0m\u001b[0;34m\u001b[0m\u001b[0m\n\u001b[0m",
            "\u001b[0;31mKeyboardInterrupt\u001b[0m: "
          ]
        }
      ]
    },
    {
      "cell_type": "code",
      "metadata": {
        "id": "1aL2Juna5SKo",
        "colab_type": "code",
        "outputId": "665ef509-a613-4ad8-90d1-4ac419ae04a7",
        "colab": {
          "base_uri": "https://localhost:8080/",
          "height": 34
        }
      },
      "source": [
        "len(graph)"
      ],
      "execution_count": 0,
      "outputs": [
        {
          "output_type": "execute_result",
          "data": {
            "text/plain": [
              "1000"
            ]
          },
          "metadata": {
            "tags": []
          },
          "execution_count": 235
        }
      ]
    }
  ]
}